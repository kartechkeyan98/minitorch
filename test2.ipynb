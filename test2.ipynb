{
 "cells": [
  {
   "cell_type": "code",
   "execution_count": 1,
   "metadata": {},
   "outputs": [],
   "source": [
    "from minitorch.engine import Node\n",
    "from minitorch.nn import Neuron,Layer,MLP\n",
    "import math"
   ]
  },
  {
   "cell_type": "markdown",
   "metadata": {},
   "source": [
    "# Neuron Check"
   ]
  },
  {
   "cell_type": "code",
   "execution_count": 4,
   "metadata": {},
   "outputs": [],
   "source": [
    "class act:\n",
    "    def __init__(self):\n",
    "        self.name='tanh'\n",
    "    \n",
    "    def __call__(self,x):\n",
    "        x=[x] if isinstance(x,Node) else x\n",
    "        e=math.e\n",
    "        \n",
    "        out=[((2*v).exp() - 1)/((2*v).exp() + 1) for v in x]\n",
    "        return out[0] if len(out)==1 else out"
   ]
  },
  {
   "cell_type": "code",
   "execution_count": 5,
   "metadata": {},
   "outputs": [
    {
     "data": {
      "text/plain": [
       "Value(data = -0.9665860355480659, grad = 0.0)"
      ]
     },
     "execution_count": 5,
     "metadata": {},
     "output_type": "execute_result"
    }
   ],
   "source": [
    "n=Neuron(3)\n",
    "n.activation=act()\n",
    "x=[3.0,1.2,-0.3]\n",
    "n(x)"
   ]
  },
  {
   "cell_type": "code",
   "execution_count": 6,
   "metadata": {},
   "outputs": [
    {
     "ename": "AssertionError",
     "evalue": "Only Supporting int,float for now",
     "output_type": "error",
     "traceback": [
      "\u001b[1;31m---------------------------------------------------------------------------\u001b[0m",
      "\u001b[1;31mAssertionError\u001b[0m                            Traceback (most recent call last)",
      "Cell \u001b[1;32mIn[6], line 3\u001b[0m\n\u001b[0;32m      1\u001b[0m v\u001b[38;5;241m=\u001b[39mValue(\u001b[38;5;241m2.0\u001b[39m)\n\u001b[0;32m      2\u001b[0m f\u001b[38;5;241m=\u001b[39mValue(\u001b[38;5;241m3.0\u001b[39m)\n\u001b[1;32m----> 3\u001b[0m d\u001b[38;5;241m=\u001b[39m\u001b[43mv\u001b[49m\u001b[38;5;241;43m*\u001b[39;49m\u001b[38;5;241;43m*\u001b[39;49m\u001b[43mf\u001b[49m\n\u001b[0;32m      4\u001b[0m d\u001b[38;5;241m.\u001b[39mbackward()\n\u001b[0;32m      5\u001b[0m \u001b[38;5;28mprint\u001b[39m(v\u001b[38;5;241m.\u001b[39mgrad)\n",
      "File \u001b[1;32my:\\Data\\KK\\Codes\\Python\\DL\\minitorch\\engine.py:39\u001b[0m, in \u001b[0;36mValue.__pow__\u001b[1;34m(self, other)\u001b[0m\n\u001b[0;32m     38\u001b[0m \u001b[38;5;28;01mdef\u001b[39;00m \u001b[38;5;21m__pow__\u001b[39m(\u001b[38;5;28mself\u001b[39m,other:(\u001b[38;5;28mint\u001b[39m,\u001b[38;5;28mfloat\u001b[39m)):\n\u001b[1;32m---> 39\u001b[0m     \u001b[38;5;28;01massert\u001b[39;00m \u001b[38;5;28misinstance\u001b[39m(other,(\u001b[38;5;28mint\u001b[39m,\u001b[38;5;28mfloat\u001b[39m)), \u001b[38;5;124m\"\u001b[39m\u001b[38;5;124mOnly Supporting int,float for now\u001b[39m\u001b[38;5;124m\"\u001b[39m\n\u001b[0;32m     40\u001b[0m     out\u001b[38;5;241m=\u001b[39mValue(\u001b[38;5;28mself\u001b[39m\u001b[38;5;241m.\u001b[39mdata\u001b[38;5;241m*\u001b[39m\u001b[38;5;241m*\u001b[39mother,(\u001b[38;5;28mself\u001b[39m,),\u001b[38;5;124mf\u001b[39m\u001b[38;5;124m'\u001b[39m\u001b[38;5;124m^\u001b[39m\u001b[38;5;132;01m{\u001b[39;00mother\u001b[38;5;132;01m}\u001b[39;00m\u001b[38;5;124m'\u001b[39m)\n\u001b[0;32m     42\u001b[0m     \u001b[38;5;28;01mdef\u001b[39;00m \u001b[38;5;21m_backward\u001b[39m():\n",
      "\u001b[1;31mAssertionError\u001b[0m: Only Supporting int,float for now"
     ]
    }
   ],
   "source": [
    "v=Node(2.0)\n",
    "f=Node(3.0)\n",
    "d=v**f\n",
    "d.backward()\n",
    "print(v.grad)\n",
    "print(f.grad)"
   ]
  },
  {
   "cell_type": "code",
   "execution_count": null,
   "metadata": {},
   "outputs": [],
   "source": []
  }
 ],
 "metadata": {
  "kernelspec": {
   "display_name": "dl",
   "language": "python",
   "name": "python3"
  },
  "language_info": {
   "codemirror_mode": {
    "name": "ipython",
    "version": 3
   },
   "file_extension": ".py",
   "mimetype": "text/x-python",
   "name": "python",
   "nbconvert_exporter": "python",
   "pygments_lexer": "ipython3",
   "version": "3.10.11"
  }
 },
 "nbformat": 4,
 "nbformat_minor": 2
}
